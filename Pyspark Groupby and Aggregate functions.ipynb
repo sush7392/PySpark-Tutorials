{
 "cells": [
  {
   "cell_type": "code",
   "execution_count": 1,
   "id": "9f07db4e",
   "metadata": {},
   "outputs": [],
   "source": [
    "from pyspark.sql import SparkSession"
   ]
  },
  {
   "cell_type": "code",
   "execution_count": 2,
   "id": "42d2f312",
   "metadata": {},
   "outputs": [],
   "source": [
    "spark = SparkSession.builder.appName('Groupby And Aggregate Functions').getOrCreate()"
   ]
  },
  {
   "cell_type": "code",
   "execution_count": 3,
   "id": "47bcae61",
   "metadata": {},
   "outputs": [
    {
     "data": {
      "text/html": [
       "\n",
       "            <div>\n",
       "                <p><b>SparkSession - in-memory</b></p>\n",
       "                \n",
       "        <div>\n",
       "            <p><b>SparkContext</b></p>\n",
       "\n",
       "            <p><a href=\"http://192.168.1.205:4040\">Spark UI</a></p>\n",
       "\n",
       "            <dl>\n",
       "              <dt>Version</dt>\n",
       "                <dd><code>v3.1.2</code></dd>\n",
       "              <dt>Master</dt>\n",
       "                <dd><code>local[*]</code></dd>\n",
       "              <dt>AppName</dt>\n",
       "                <dd><code>Groupby And Aggregate Functions</code></dd>\n",
       "            </dl>\n",
       "        </div>\n",
       "        \n",
       "            </div>\n",
       "        "
      ],
      "text/plain": [
       "<pyspark.sql.session.SparkSession at 0x7f35cb0673d0>"
      ]
     },
     "execution_count": 3,
     "metadata": {},
     "output_type": "execute_result"
    }
   ],
   "source": [
    "spark"
   ]
  },
  {
   "cell_type": "code",
   "execution_count": 4,
   "id": "5633a16c",
   "metadata": {},
   "outputs": [
    {
     "name": "stdout",
     "output_type": "stream",
     "text": [
      "+---------+------------+------+\n",
      "|    Name |  Department|Salary|\n",
      "+---------+------------+------+\n",
      "|  Sushant|    Big Data|100000|\n",
      "|   Roshan|         IOT| 50000|\n",
      "|   Aakash|Data Science| 30000|\n",
      "|    Harsh|   Bussiness| 20000|\n",
      "|      Sid|Data Science| 60000|\n",
      "|   Shivam|Data Science| 10000|\n",
      "|  Shamita|    Big Data| 60000|\n",
      "|  Khusboo|         IOT| 40000|\n",
      "|    Pooja|    Big Data|100000|\n",
      "|   Anjali|   Bussiness| 70000|\n",
      "|   Amisha|Data Science| 80000|\n",
      "|Saundarya|   Bussiness| 90000|\n",
      "+---------+------------+------+\n",
      "\n"
     ]
    }
   ],
   "source": [
    "df_pyspark = spark.read.csv('/home/rosh/Documents/GroupBy.csv',header=True,inferSchema=True)\n",
    "df_pyspark.show()"
   ]
  },
  {
   "cell_type": "code",
   "execution_count": 5,
   "id": "f44e9430",
   "metadata": {},
   "outputs": [
    {
     "name": "stdout",
     "output_type": "stream",
     "text": [
      "root\n",
      " |-- Name : string (nullable = true)\n",
      " |-- Department: string (nullable = true)\n",
      " |-- Salary: integer (nullable = true)\n",
      "\n"
     ]
    }
   ],
   "source": [
    "df_pyspark.printSchema()"
   ]
  },
  {
   "cell_type": "code",
   "execution_count": 6,
   "id": "73164c83",
   "metadata": {},
   "outputs": [
    {
     "name": "stdout",
     "output_type": "stream",
     "text": [
      "+------------+-----------+\n",
      "|  Department|sum(Salary)|\n",
      "+------------+-----------+\n",
      "|         IOT|      90000|\n",
      "|   Bussiness|     180000|\n",
      "|    Big Data|     260000|\n",
      "|Data Science|     180000|\n",
      "+------------+-----------+\n",
      "\n"
     ]
    }
   ],
   "source": [
    "df_pyspark.groupBy('Department').sum().show()"
   ]
  },
  {
   "cell_type": "code",
   "execution_count": 7,
   "id": "ad9f3cea",
   "metadata": {},
   "outputs": [
    {
     "name": "stdout",
     "output_type": "stream",
     "text": [
      "+---------+-----------+\n",
      "|    Name |sum(Salary)|\n",
      "+---------+-----------+\n",
      "|   Roshan|      50000|\n",
      "|   Amisha|      80000|\n",
      "|  Sushant|     100000|\n",
      "|    Pooja|     100000|\n",
      "|  Shamita|      60000|\n",
      "|   Shivam|      10000|\n",
      "|      Sid|      60000|\n",
      "|  Khusboo|      40000|\n",
      "|    Harsh|      20000|\n",
      "|   Aakash|      30000|\n",
      "|Saundarya|      90000|\n",
      "|   Anjali|      70000|\n",
      "+---------+-----------+\n",
      "\n"
     ]
    }
   ],
   "source": [
    "df_pyspark.groupBy('Name ').sum().show()"
   ]
  },
  {
   "cell_type": "code",
   "execution_count": 8,
   "id": "062be7cd",
   "metadata": {},
   "outputs": [
    {
     "name": "stdout",
     "output_type": "stream",
     "text": [
      "+---------+-----------+\n",
      "|    Name |avg(Salary)|\n",
      "+---------+-----------+\n",
      "|   Roshan|    50000.0|\n",
      "|   Amisha|    80000.0|\n",
      "|  Sushant|   100000.0|\n",
      "|    Pooja|   100000.0|\n",
      "|  Shamita|    60000.0|\n",
      "|   Shivam|    10000.0|\n",
      "|      Sid|    60000.0|\n",
      "|  Khusboo|    40000.0|\n",
      "|    Harsh|    20000.0|\n",
      "|   Aakash|    30000.0|\n",
      "|Saundarya|    90000.0|\n",
      "|   Anjali|    70000.0|\n",
      "+---------+-----------+\n",
      "\n"
     ]
    }
   ],
   "source": [
    "df_pyspark.groupBy('Name ').mean().show()"
   ]
  },
  {
   "cell_type": "code",
   "execution_count": 11,
   "id": "a6530025",
   "metadata": {},
   "outputs": [
    {
     "name": "stdout",
     "output_type": "stream",
     "text": [
      "+------------+-----+\n",
      "|  Department|count|\n",
      "+------------+-----+\n",
      "|         IOT|    2|\n",
      "|   Bussiness|    3|\n",
      "|    Big Data|    3|\n",
      "|Data Science|    4|\n",
      "+------------+-----+\n",
      "\n"
     ]
    }
   ],
   "source": [
    "df_pyspark.groupBy('Department').count().show()"
   ]
  },
  {
   "cell_type": "code",
   "execution_count": 12,
   "id": "085247a9",
   "metadata": {},
   "outputs": [
    {
     "name": "stdout",
     "output_type": "stream",
     "text": [
      "+-----------+\n",
      "|sum(Salary)|\n",
      "+-----------+\n",
      "|     710000|\n",
      "+-----------+\n",
      "\n"
     ]
    }
   ],
   "source": [
    "df_pyspark.agg({'Salary':'sum'}).show()"
   ]
  },
  {
   "cell_type": "code",
   "execution_count": 13,
   "id": "92fdb22b",
   "metadata": {},
   "outputs": [
    {
     "name": "stdout",
     "output_type": "stream",
     "text": [
      "+-----------+\n",
      "|max(Salary)|\n",
      "+-----------+\n",
      "|     100000|\n",
      "+-----------+\n",
      "\n"
     ]
    }
   ],
   "source": [
    "df_pyspark.agg({'Salary':'max'}).show()"
   ]
  },
  {
   "cell_type": "code",
   "execution_count": 15,
   "id": "55aa0c7b",
   "metadata": {},
   "outputs": [
    {
     "name": "stdout",
     "output_type": "stream",
     "text": [
      "+---------+-----------+\n",
      "|    Name |max(Salary)|\n",
      "+---------+-----------+\n",
      "|   Roshan|      50000|\n",
      "|   Amisha|      80000|\n",
      "|  Sushant|     100000|\n",
      "|    Pooja|     100000|\n",
      "|  Shamita|      60000|\n",
      "|   Shivam|      10000|\n",
      "|      Sid|      60000|\n",
      "|  Khusboo|      40000|\n",
      "|    Harsh|      20000|\n",
      "|   Aakash|      30000|\n",
      "|Saundarya|      90000|\n",
      "|   Anjali|      70000|\n",
      "+---------+-----------+\n",
      "\n"
     ]
    }
   ],
   "source": [
    "df_pyspark.groupBy('Name ').max().show()"
   ]
  },
  {
   "cell_type": "code",
   "execution_count": 16,
   "id": "07b02acd",
   "metadata": {},
   "outputs": [
    {
     "name": "stdout",
     "output_type": "stream",
     "text": [
      "+---------+-----------+\n",
      "|    Name |min(Salary)|\n",
      "+---------+-----------+\n",
      "|   Roshan|      50000|\n",
      "|   Amisha|      80000|\n",
      "|  Sushant|     100000|\n",
      "|    Pooja|     100000|\n",
      "|  Shamita|      60000|\n",
      "|   Shivam|      10000|\n",
      "|      Sid|      60000|\n",
      "|  Khusboo|      40000|\n",
      "|    Harsh|      20000|\n",
      "|   Aakash|      30000|\n",
      "|Saundarya|      90000|\n",
      "|   Anjali|      70000|\n",
      "+---------+-----------+\n",
      "\n"
     ]
    }
   ],
   "source": [
    "df_pyspark.groupBy('Name ').min().show()"
   ]
  },
  {
   "cell_type": "code",
   "execution_count": 17,
   "id": "18c3c67c",
   "metadata": {},
   "outputs": [
    {
     "name": "stdout",
     "output_type": "stream",
     "text": [
      "+---------+-----------+\n",
      "|    Name |avg(Salary)|\n",
      "+---------+-----------+\n",
      "|   Roshan|    50000.0|\n",
      "|   Amisha|    80000.0|\n",
      "|  Sushant|   100000.0|\n",
      "|    Pooja|   100000.0|\n",
      "|  Shamita|    60000.0|\n",
      "|   Shivam|    10000.0|\n",
      "|      Sid|    60000.0|\n",
      "|  Khusboo|    40000.0|\n",
      "|    Harsh|    20000.0|\n",
      "|   Aakash|    30000.0|\n",
      "|Saundarya|    90000.0|\n",
      "|   Anjali|    70000.0|\n",
      "+---------+-----------+\n",
      "\n"
     ]
    }
   ],
   "source": [
    "df_pyspark.groupBy('Name ').avg().show()"
   ]
  },
  {
   "cell_type": "code",
   "execution_count": null,
   "id": "04024b11",
   "metadata": {},
   "outputs": [],
   "source": []
  }
 ],
 "metadata": {
  "kernelspec": {
   "display_name": "Python 3",
   "language": "python",
   "name": "python3"
  },
  "language_info": {
   "codemirror_mode": {
    "name": "ipython",
    "version": 3
   },
   "file_extension": ".py",
   "mimetype": "text/x-python",
   "name": "python",
   "nbconvert_exporter": "python",
   "pygments_lexer": "ipython3",
   "version": "3.8.8"
  }
 },
 "nbformat": 4,
 "nbformat_minor": 5
}
