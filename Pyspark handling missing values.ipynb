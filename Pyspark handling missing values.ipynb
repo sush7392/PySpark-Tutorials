{
 "cells": [
  {
   "cell_type": "code",
   "execution_count": 1,
   "id": "d4b570b2",
   "metadata": {},
   "outputs": [],
   "source": [
    "import pyspark"
   ]
  },
  {
   "cell_type": "code",
   "execution_count": 2,
   "id": "bf2d723b",
   "metadata": {},
   "outputs": [],
   "source": [
    "from pyspark.sql import SparkSession"
   ]
  },
  {
   "cell_type": "code",
   "execution_count": 3,
   "id": "6d2f834e",
   "metadata": {},
   "outputs": [],
   "source": [
    "spark = SparkSession.builder.appName('Handling Missing Values').getOrCreate()"
   ]
  },
  {
   "cell_type": "code",
   "execution_count": 4,
   "id": "9e4e9962",
   "metadata": {
    "scrolled": true
   },
   "outputs": [
    {
     "data": {
      "text/html": [
       "\n",
       "            <div>\n",
       "                <p><b>SparkSession - in-memory</b></p>\n",
       "                \n",
       "        <div>\n",
       "            <p><b>SparkContext</b></p>\n",
       "\n",
       "            <p><a href=\"http://192.168.1.205:4040\">Spark UI</a></p>\n",
       "\n",
       "            <dl>\n",
       "              <dt>Version</dt>\n",
       "                <dd><code>v3.1.2</code></dd>\n",
       "              <dt>Master</dt>\n",
       "                <dd><code>local[*]</code></dd>\n",
       "              <dt>AppName</dt>\n",
       "                <dd><code>Handling Missing Values</code></dd>\n",
       "            </dl>\n",
       "        </div>\n",
       "        \n",
       "            </div>\n",
       "        "
      ],
      "text/plain": [
       "<pyspark.sql.session.SparkSession at 0x7f67d8790940>"
      ]
     },
     "execution_count": 4,
     "metadata": {},
     "output_type": "execute_result"
    }
   ],
   "source": [
    "spark"
   ]
  },
  {
   "cell_type": "code",
   "execution_count": 5,
   "id": "30a2aa65",
   "metadata": {},
   "outputs": [
    {
     "name": "stdout",
     "output_type": "stream",
     "text": [
      "+--------+----+----------+------+\n",
      "|    Name| Age|Experience|Salary|\n",
      "+--------+----+----------+------+\n",
      "| Sushant|  20|        10| 30000|\n",
      "|  Aakash|  19|         8| 25000|\n",
      "|  Roshan|  17|         4| 20000|\n",
      "|   Harsh|  20|         3| 15000|\n",
      "|     Sid|  20|         1| 18000|\n",
      "| Shamita|  17|         2| 40000|\n",
      "|khushboo|null|      null| 38000|\n",
      "|    null|  15|        10| 20000|\n",
      "|    null|  16|      null|  null|\n",
      "+--------+----+----------+------+\n",
      "\n"
     ]
    }
   ],
   "source": [
    "df_spark = spark.read.csv('/home/rosh/Documents/testin 2.csv', header=True, inferSchema=True)\n",
    "df_spark.show()"
   ]
  },
  {
   "cell_type": "code",
   "execution_count": 6,
   "id": "ca4f6f77",
   "metadata": {},
   "outputs": [
    {
     "name": "stdout",
     "output_type": "stream",
     "text": [
      "+----+----------+------+\n",
      "| Age|Experience|Salary|\n",
      "+----+----------+------+\n",
      "|  20|        10| 30000|\n",
      "|  19|         8| 25000|\n",
      "|  17|         4| 20000|\n",
      "|  20|         3| 15000|\n",
      "|  20|         1| 18000|\n",
      "|  17|         2| 40000|\n",
      "|null|      null| 38000|\n",
      "|  15|        10| 20000|\n",
      "|  16|      null|  null|\n",
      "+----+----------+------+\n",
      "\n"
     ]
    }
   ],
   "source": [
    "# Dropping the column in pyspark\n",
    "\n",
    "df_spark.drop('Name').show()"
   ]
  },
  {
   "cell_type": "code",
   "execution_count": 7,
   "id": "eb6aa5bc",
   "metadata": {},
   "outputs": [
    {
     "name": "stdout",
     "output_type": "stream",
     "text": [
      "+-------+---+----------+------+\n",
      "|   Name|Age|Experience|Salary|\n",
      "+-------+---+----------+------+\n",
      "|Sushant| 20|        10| 30000|\n",
      "| Aakash| 19|         8| 25000|\n",
      "| Roshan| 17|         4| 20000|\n",
      "|  Harsh| 20|         3| 15000|\n",
      "|    Sid| 20|         1| 18000|\n",
      "|Shamita| 17|         2| 40000|\n",
      "+-------+---+----------+------+\n",
      "\n"
     ]
    }
   ],
   "source": [
    "# dropping the rows on the basis of the null values by usng the na.drop() function. If we dont specify anything \n",
    "# so it will delete all the rows containing the null values.\n",
    "\n",
    "df_spark.na.drop().show()"
   ]
  },
  {
   "cell_type": "code",
   "execution_count": 8,
   "id": "c3e93efc",
   "metadata": {},
   "outputs": [
    {
     "name": "stdout",
     "output_type": "stream",
     "text": [
      "+-------+---+----------+------+\n",
      "|   Name|Age|Experience|Salary|\n",
      "+-------+---+----------+------+\n",
      "|Sushant| 20|        10| 30000|\n",
      "| Aakash| 19|         8| 25000|\n",
      "| Roshan| 17|         4| 20000|\n",
      "|  Harsh| 20|         3| 15000|\n",
      "|    Sid| 20|         1| 18000|\n",
      "|Shamita| 17|         2| 40000|\n",
      "+-------+---+----------+------+\n",
      "\n"
     ]
    }
   ],
   "source": [
    "# If inside drop if we specify that drop how equal to any than it will drop a row if it contains any nulls.\n",
    "\n",
    "df_spark.na.drop(how=\"any\").show()"
   ]
  },
  {
   "cell_type": "code",
   "execution_count": 9,
   "id": "e9d5930d",
   "metadata": {},
   "outputs": [
    {
     "name": "stdout",
     "output_type": "stream",
     "text": [
      "+--------+----+----------+------+\n",
      "|    Name| Age|Experience|Salary|\n",
      "+--------+----+----------+------+\n",
      "| Sushant|  20|        10| 30000|\n",
      "|  Aakash|  19|         8| 25000|\n",
      "|  Roshan|  17|         4| 20000|\n",
      "|   Harsh|  20|         3| 15000|\n",
      "|     Sid|  20|         1| 18000|\n",
      "| Shamita|  17|         2| 40000|\n",
      "|khushboo|null|      null| 38000|\n",
      "|    null|  15|        10| 20000|\n",
      "|    null|  16|      null|  null|\n",
      "+--------+----+----------+------+\n",
      "\n"
     ]
    }
   ],
   "source": [
    "# If inside drop if we specify that drop how equal to any than it will drop a row only if all its values are null.\n",
    "# So as there are no all null values in a particular row so it will not delete it.\n",
    "\n",
    "df_spark.na.drop(how=\"all\").show()"
   ]
  },
  {
   "cell_type": "code",
   "execution_count": 10,
   "id": "4c323bae",
   "metadata": {},
   "outputs": [
    {
     "name": "stdout",
     "output_type": "stream",
     "text": [
      "+-------+---+----------+------+\n",
      "|   Name|Age|Experience|Salary|\n",
      "+-------+---+----------+------+\n",
      "|Sushant| 20|        10| 30000|\n",
      "| Aakash| 19|         8| 25000|\n",
      "| Roshan| 17|         4| 20000|\n",
      "|  Harsh| 20|         3| 15000|\n",
      "|    Sid| 20|         1| 18000|\n",
      "|Shamita| 17|         2| 40000|\n",
      "|   null| 15|        10| 20000|\n",
      "+-------+---+----------+------+\n",
      "\n"
     ]
    }
   ],
   "source": [
    "# the thresh value inside the drop specify that if more than two non null values are present than drop that whole \n",
    "# row\n",
    "\n",
    "df_spark.na.drop(how='any', thresh=3).show()"
   ]
  },
  {
   "cell_type": "code",
   "execution_count": 11,
   "id": "e6360fa1",
   "metadata": {},
   "outputs": [
    {
     "name": "stdout",
     "output_type": "stream",
     "text": [
      "+--------+----+----------+------+\n",
      "|    Name| Age|Experience|Salary|\n",
      "+--------+----+----------+------+\n",
      "| Sushant|  20|        10| 30000|\n",
      "|  Aakash|  19|         8| 25000|\n",
      "|  Roshan|  17|         4| 20000|\n",
      "|   Harsh|  20|         3| 15000|\n",
      "|     Sid|  20|         1| 18000|\n",
      "| Shamita|  17|         2| 40000|\n",
      "|khushboo|null|      null| 38000|\n",
      "+--------+----+----------+------+\n",
      "\n"
     ]
    }
   ],
   "source": [
    "# Subset So it basically delete all row of a particular column if it has null values present\n",
    "\n",
    "df_spark.na.drop(how='any', subset=['Name']).show()"
   ]
  },
  {
   "cell_type": "code",
   "execution_count": 12,
   "id": "41bc9a7e",
   "metadata": {},
   "outputs": [
    {
     "name": "stdout",
     "output_type": "stream",
     "text": [
      "+--------------+----+----------+------+\n",
      "|          Name| Age|Experience|Salary|\n",
      "+--------------+----+----------+------+\n",
      "|       Sushant|  20|        10| 30000|\n",
      "|        Aakash|  19|         8| 25000|\n",
      "|        Roshan|  17|         4| 20000|\n",
      "|         Harsh|  20|         3| 15000|\n",
      "|           Sid|  20|         1| 18000|\n",
      "|       Shamita|  17|         2| 40000|\n",
      "|      khushboo|null|      null| 38000|\n",
      "|Missing Values|  15|        10| 20000|\n",
      "|Missing Values|  16|      null|  null|\n",
      "+--------------+----+----------+------+\n",
      "\n"
     ]
    }
   ],
   "source": [
    "# Filling the missing values. so it basically replace the nan values with the missing values\n",
    "\n",
    "df_spark.na.fill('Missing Values').show()"
   ]
  },
  {
   "cell_type": "code",
   "execution_count": 13,
   "id": "df1a5d48",
   "metadata": {},
   "outputs": [
    {
     "name": "stdout",
     "output_type": "stream",
     "text": [
      "+--------------+----+----------+------+\n",
      "|          Name| Age|Experience|Salary|\n",
      "+--------------+----+----------+------+\n",
      "|       Sushant|  20|        10| 30000|\n",
      "|        Aakash|  19|         8| 25000|\n",
      "|        Roshan|  17|         4| 20000|\n",
      "|         Harsh|  20|         3| 15000|\n",
      "|           Sid|  20|         1| 18000|\n",
      "|       Shamita|  17|         2| 40000|\n",
      "|      khushboo|null|      null| 38000|\n",
      "|Missing Values|  15|        10| 20000|\n",
      "|Missing Values|  16|      null|  null|\n",
      "+--------------+----+----------+------+\n",
      "\n"
     ]
    }
   ],
   "source": [
    "# Filling the nan values of a particular column with the missing values\n",
    "\n",
    "df_spark.na.fill('Missing Values',subset='Name').show()"
   ]
  },
  {
   "cell_type": "code",
   "execution_count": 14,
   "id": "b279a2aa",
   "metadata": {},
   "outputs": [
    {
     "name": "stdout",
     "output_type": "stream",
     "text": [
      "+--------+----+----------+------+\n",
      "|    Name| Age|Experience|Salary|\n",
      "+--------+----+----------+------+\n",
      "| Sushant|  20|        10| 30000|\n",
      "|  Aakash|  19|         8| 25000|\n",
      "|  Roshan|  17|         4| 20000|\n",
      "|   Harsh|  20|         3| 15000|\n",
      "|     Sid|  20|         1| 18000|\n",
      "| Shamita|  17|         2| 40000|\n",
      "|khushboo|null|      null| 38000|\n",
      "|    null|  15|        10| 20000|\n",
      "|    null|  16|      null|  null|\n",
      "+--------+----+----------+------+\n",
      "\n"
     ]
    }
   ],
   "source": [
    "df_spark.na.fill('Missing Values',subset = 'Experience').show()"
   ]
  },
  {
   "cell_type": "code",
   "execution_count": 15,
   "id": "8194c044",
   "metadata": {},
   "outputs": [
    {
     "name": "stdout",
     "output_type": "stream",
     "text": [
      "+--------+----+----------+------+\n",
      "|    Name| Age|Experience|Salary|\n",
      "+--------+----+----------+------+\n",
      "| Sushant|  20|        10| 30000|\n",
      "|  Aakash|  19|         8| 25000|\n",
      "|  Roshan|  17|         4| 20000|\n",
      "|   Harsh|  20|         3| 15000|\n",
      "|     Sid|  20|         1| 18000|\n",
      "| Shamita|  17|         2| 40000|\n",
      "|khushboo|null|      null| 38000|\n",
      "|    null|  15|        10| 20000|\n",
      "|    null|  16|      null|  null|\n",
      "+--------+----+----------+------+\n",
      "\n"
     ]
    }
   ],
   "source": [
    "df_spark.show()"
   ]
  },
  {
   "cell_type": "code",
   "execution_count": 16,
   "id": "03a47566",
   "metadata": {},
   "outputs": [],
   "source": [
    "from pyspark.ml.feature import Imputer\n",
    "\n",
    "imputer = Imputer(\n",
    "    inputCols=['Age','Experience','Salary'],\n",
    "    outputCols=['{}_imputed'.format(c) for c in ['Age','Experience','Salary']]\n",
    "    ).setStrategy('mean')"
   ]
  },
  {
   "cell_type": "code",
   "execution_count": 17,
   "id": "6a25fd5f",
   "metadata": {},
   "outputs": [
    {
     "name": "stdout",
     "output_type": "stream",
     "text": [
      "+--------+----+----------+------+-----------+------------------+--------------+\n",
      "|    Name| Age|Experience|Salary|Age_imputed|Experience_imputed|Salary_imputed|\n",
      "+--------+----+----------+------+-----------+------------------+--------------+\n",
      "| Sushant|  20|        10| 30000|         20|                10|         30000|\n",
      "|  Aakash|  19|         8| 25000|         19|                 8|         25000|\n",
      "|  Roshan|  17|         4| 20000|         17|                 4|         20000|\n",
      "|   Harsh|  20|         3| 15000|         20|                 3|         15000|\n",
      "|     Sid|  20|         1| 18000|         20|                 1|         18000|\n",
      "| Shamita|  17|         2| 40000|         17|                 2|         40000|\n",
      "|khushboo|null|      null| 38000|         18|                 5|         38000|\n",
      "|    null|  15|        10| 20000|         15|                10|         20000|\n",
      "|    null|  16|      null|  null|         16|                 5|         25750|\n",
      "+--------+----+----------+------+-----------+------------------+--------------+\n",
      "\n"
     ]
    }
   ],
   "source": [
    "imputer.fit(df_spark).transform(df_spark).show()"
   ]
  },
  {
   "cell_type": "code",
   "execution_count": null,
   "id": "b93d6ca9",
   "metadata": {},
   "outputs": [],
   "source": []
  }
 ],
 "metadata": {
  "kernelspec": {
   "display_name": "Python 3",
   "language": "python",
   "name": "python3"
  },
  "language_info": {
   "codemirror_mode": {
    "name": "ipython",
    "version": 3
   },
   "file_extension": ".py",
   "mimetype": "text/x-python",
   "name": "python",
   "nbconvert_exporter": "python",
   "pygments_lexer": "ipython3",
   "version": "3.8.8"
  }
 },
 "nbformat": 4,
 "nbformat_minor": 5
}
